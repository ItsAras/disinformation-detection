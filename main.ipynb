{
 "cells": [
  {
   "cell_type": "markdown",
   "id": "c4486ea0",
   "metadata": {},
   "source": [
    "# 🧠 Misinformation & Disinformation Detection in Social Media\n",
    "\n",
    "This project trains a classifier to detect misinformation and disinformation in English texts, including Russian-origin content. It follows a full data science pipeline: corpus creation, normalization, model training, and evaluation."
   ]
  },
  {
   "cell_type": "code",
   "execution_count": 1,
   "id": "2584ba48",
   "metadata": {},
   "outputs": [
    {
     "name": "stdout",
     "output_type": "stream",
     "text": [
      "Requirement already satisfied: pandas in /home/rimvydas/.pyenv/versions/3.11.4/lib/python3.11/site-packages (2.2.2)\n",
      "Requirement already satisfied: matplotlib in /home/rimvydas/.pyenv/versions/3.11.4/lib/python3.11/site-packages (3.8.2)\n",
      "Requirement already satisfied: seaborn in /home/rimvydas/.pyenv/versions/3.11.4/lib/python3.11/site-packages (0.13.2)\n",
      "Requirement already satisfied: scikit-learn in /home/rimvydas/.pyenv/versions/3.11.4/lib/python3.11/site-packages (1.5.2)\n",
      "Collecting nltk\n",
      "  Using cached nltk-3.9.1-py3-none-any.whl.metadata (2.9 kB)\n",
      "Requirement already satisfied: joblib in /home/rimvydas/.pyenv/versions/3.11.4/lib/python3.11/site-packages (1.4.2)\n",
      "Requirement already satisfied: numpy>=1.23.2 in /home/rimvydas/.pyenv/versions/3.11.4/lib/python3.11/site-packages (from pandas) (1.26.4)\n",
      "Requirement already satisfied: python-dateutil>=2.8.2 in /home/rimvydas/.pyenv/versions/3.11.4/lib/python3.11/site-packages (from pandas) (2.8.2)\n",
      "Requirement already satisfied: pytz>=2020.1 in /home/rimvydas/.pyenv/versions/3.11.4/lib/python3.11/site-packages (from pandas) (2024.1)\n",
      "Requirement already satisfied: tzdata>=2022.7 in /home/rimvydas/.pyenv/versions/3.11.4/lib/python3.11/site-packages (from pandas) (2024.1)\n",
      "Requirement already satisfied: contourpy>=1.0.1 in /home/rimvydas/.pyenv/versions/3.11.4/lib/python3.11/site-packages (from matplotlib) (1.2.0)\n",
      "Requirement already satisfied: cycler>=0.10 in /home/rimvydas/.pyenv/versions/3.11.4/lib/python3.11/site-packages (from matplotlib) (0.12.1)\n",
      "Requirement already satisfied: fonttools>=4.22.0 in /home/rimvydas/.pyenv/versions/3.11.4/lib/python3.11/site-packages (from matplotlib) (4.48.1)\n",
      "Requirement already satisfied: kiwisolver>=1.3.1 in /home/rimvydas/.pyenv/versions/3.11.4/lib/python3.11/site-packages (from matplotlib) (1.4.5)\n",
      "Requirement already satisfied: packaging>=20.0 in /home/rimvydas/.pyenv/versions/3.11.4/lib/python3.11/site-packages (from matplotlib) (23.2)\n",
      "Requirement already satisfied: pillow>=8 in /home/rimvydas/.pyenv/versions/3.11.4/lib/python3.11/site-packages (from matplotlib) (10.2.0)\n",
      "Requirement already satisfied: pyparsing>=2.3.1 in /home/rimvydas/.pyenv/versions/3.11.4/lib/python3.11/site-packages (from matplotlib) (3.1.1)\n",
      "Requirement already satisfied: scipy>=1.6.0 in /home/rimvydas/.pyenv/versions/3.11.4/lib/python3.11/site-packages (from scikit-learn) (1.13.0)\n",
      "Requirement already satisfied: threadpoolctl>=3.1.0 in /home/rimvydas/.pyenv/versions/3.11.4/lib/python3.11/site-packages (from scikit-learn) (3.5.0)\n",
      "Requirement already satisfied: click in /home/rimvydas/.pyenv/versions/3.11.4/lib/python3.11/site-packages (from nltk) (8.1.7)\n",
      "Collecting regex>=2021.8.3 (from nltk)\n",
      "  Downloading regex-2024.11.6-cp311-cp311-manylinux_2_17_x86_64.manylinux2014_x86_64.whl.metadata (40 kB)\n",
      "Requirement already satisfied: tqdm in /home/rimvydas/.pyenv/versions/3.11.4/lib/python3.11/site-packages (from nltk) (4.66.2)\n",
      "Requirement already satisfied: six>=1.5 in /home/rimvydas/.pyenv/versions/3.11.4/lib/python3.11/site-packages (from python-dateutil>=2.8.2->pandas) (1.16.0)\n",
      "Using cached nltk-3.9.1-py3-none-any.whl (1.5 MB)\n",
      "Downloading regex-2024.11.6-cp311-cp311-manylinux_2_17_x86_64.manylinux2014_x86_64.whl (792 kB)\n",
      "\u001b[2K   \u001b[90m━━━━━━━━━━━━━━━━━━━━━━━━━━━━━━━━━━━━━━━━\u001b[0m \u001b[32m792.7/792.7 kB\u001b[0m \u001b[31m11.8 MB/s\u001b[0m eta \u001b[36m0:00:00\u001b[0m\n",
      "\u001b[?25hInstalling collected packages: regex, nltk\n",
      "\u001b[2K   \u001b[90m━━━━━━━━━━━━━━━━━━━━━━━━━━━━━━━━━━━━━━━━\u001b[0m \u001b[32m2/2\u001b[0m [nltk][32m1/2\u001b[0m [nltk]\n",
      "\u001b[1A\u001b[2KSuccessfully installed nltk-3.9.1 regex-2024.11.6\n",
      "Note: you may need to restart the kernel to use updated packages.\n"
     ]
    }
   ],
   "source": [
    "%pip install pandas matplotlib seaborn scikit-learn nltk joblib"
   ]
  },
  {
   "cell_type": "markdown",
   "id": "a0846c73",
   "metadata": {},
   "source": [
    "## 1. 📚 Corpus Compilation and Data Exploration"
   ]
  },
  {
   "cell_type": "code",
   "execution_count": 2,
   "id": "ba72feb4",
   "metadata": {},
   "outputs": [
    {
     "name": "stdout",
     "output_type": "stream",
     "text": [
      "Total words in combined corpus: 37995032\n",
      "Number of samples: 85954\n"
     ]
    },
    {
     "data": {
      "image/png": "[encoded data removed]",
      "text/plain": [
       "<Figure size 640x480 with 1 Axes>"
      ]
     },
     "metadata": {},
     "output_type": "display_data"
    }
   ],
   "source": [
    "\n",
    "import pandas as pd\n",
    "import matplotlib.pyplot as plt\n",
    "import seaborn as sns\n",
    "from pathlib import Path\n",
    "\n",
    "# Load datasets\n",
    "data_dir = Path(\"data\")\n",
    "fake_df = pd.read_csv(data_dir / \"DataSet_Misinfo_FAKE.csv\")\n",
    "true_df = pd.read_csv(data_dir / \"DataSet_Misinfo_TRUE.csv\")\n",
    "russian_df = pd.read_csv(data_dir / \"EXTRA_RussianPropagandaSubset.csv\")\n",
    "\n",
    "# Label the datasets\n",
    "fake_df[\"label\"] = 1\n",
    "russian_df[\"label\"] = 1\n",
    "true_df[\"label\"] = 0\n",
    "\n",
    "# Standardize text column names\n",
    "for df in [fake_df, true_df, russian_df]:\n",
    "    df.columns = [col.lower() for col in df.columns]\n",
    "\n",
    "# Choose text column\n",
    "text_column = \"text\" if \"text\" in fake_df.columns else list(fake_df.columns)[0]\n",
    "\n",
    "# Select columns\n",
    "fake_df = fake_df[[text_column, \"label\"]].dropna()\n",
    "true_df = true_df[[text_column, \"label\"]].dropna()\n",
    "russian_df = russian_df[[text_column, \"label\"]].dropna()\n",
    "\n",
    "# Combine\n",
    "df = pd.concat([fake_df, true_df, russian_df], ignore_index=True).sample(frac=1, random_state=42)\n",
    "df.reset_index(drop=True, inplace=True)\n",
    "\n",
    "# Word count\n",
    "df[\"word_count\"] = df[text_column].apply(lambda x: len(str(x).split()))\n",
    "total_words = df[\"word_count\"].sum()\n",
    "print(f\"Total words in combined corpus: {total_words}\")\n",
    "print(f\"Number of samples: {len(df)}\")\n",
    "\n",
    "# Plot label distribution\n",
    "sns.countplot(data=df, x=\"label\")\n",
    "plt.title(\"Label Distribution (0 = true, 1 = misinfo/disinfo)\")\n",
    "plt.show()\n"
   ]
  },
  {
   "cell_type": "markdown",
   "id": "8004eadc",
   "metadata": {},
   "source": [
    "## 2. 🧹 Text Normalization"
   ]
  },
  {
   "cell_type": "code",
   "execution_count": 3,
   "id": "67d8dafd",
   "metadata": {},
   "outputs": [
    {
     "name": "stderr",
     "output_type": "stream",
     "text": [
      "[nltk_data] Downloading package stopwords to\n",
      "[nltk_data]     /home/rimvydas/nltk_data...\n",
      "[nltk_data]   Unzipping corpora/stopwords.zip.\n"
     ]
    }
   ],
   "source": [
    "\n",
    "import re\n",
    "import string\n",
    "from nltk.corpus import stopwords\n",
    "from nltk.stem import SnowballStemmer\n",
    "import nltk\n",
    "nltk.download('stopwords')\n",
    "\n",
    "stop_words = set(stopwords.words(\"english\"))\n",
    "stemmer = SnowballStemmer(\"english\")\n",
    "\n",
    "def normalize_text(text):\n",
    "    text = str(text).lower()\n",
    "    text = re.sub(r\"http\\S+|www\\S+|https\\S+\", '', text, flags=re.MULTILINE)\n",
    "    text = re.sub(r'\\@\\w+|\\#','', text)\n",
    "    text = text.translate(str.maketrans('', '', string.punctuation))\n",
    "    text = re.sub(r'\\d+', '', text)\n",
    "    tokens = text.split()\n",
    "    tokens = [stemmer.stem(word) for word in tokens if word not in stop_words]\n",
    "    return \" \".join(tokens)\n",
    "\n",
    "df[\"clean_text\"] = df[text_column].apply(normalize_text)\n"
   ]
  },
  {
   "cell_type": "markdown",
   "id": "0dc020b2",
   "metadata": {},
   "source": [
    "## 3. 🤖 Model Training and Evaluation"
   ]
  },
  {
   "cell_type": "code",
   "execution_count": 4,
   "id": "2d08b66d",
   "metadata": {},
   "outputs": [
    {
     "name": "stdout",
     "output_type": "stream",
     "text": [
      "Accuracy: 0.9497411436216625\n",
      "\n",
      "Classification Report:\n",
      "               precision    recall  f1-score   support\n",
      "\n",
      "           0       0.95      0.93      0.94      6989\n",
      "           1       0.95      0.97      0.96     10202\n",
      "\n",
      "    accuracy                           0.95     17191\n",
      "   macro avg       0.95      0.95      0.95     17191\n",
      "weighted avg       0.95      0.95      0.95     17191\n",
      "\n",
      "\n",
      "Confusion Matrix:\n",
      " [[6482  507]\n",
      " [ 357 9845]]\n"
     ]
    }
   ],
   "source": [
    "\n",
    "from sklearn.model_selection import train_test_split\n",
    "from sklearn.feature_extraction.text import TfidfVectorizer\n",
    "from sklearn.linear_model import LogisticRegression\n",
    "from sklearn.metrics import classification_report, confusion_matrix, accuracy_score\n",
    "\n",
    "X_train, X_test, y_train, y_test = train_test_split(\n",
    "    df[\"clean_text\"], df[\"label\"], test_size=0.2, random_state=42, stratify=df[\"label\"]\n",
    ")\n",
    "\n",
    "vectorizer = TfidfVectorizer(max_features=10000, ngram_range=(1, 2))\n",
    "X_train_vec = vectorizer.fit_transform(X_train)\n",
    "X_test_vec = vectorizer.transform(X_test)\n",
    "\n",
    "model = LogisticRegression(max_iter=1000)\n",
    "model.fit(X_train_vec, y_train)\n",
    "\n",
    "y_pred = model.predict(X_test_vec)\n",
    "print(\"Accuracy:\", accuracy_score(y_test, y_pred))\n",
    "print(\"\\nClassification Report:\\n\", classification_report(y_test, y_pred))\n",
    "print(\"\\nConfusion Matrix:\\n\", confusion_matrix(y_test, y_pred))\n"
   ]
  },
  {
   "cell_type": "markdown",
   "id": "50ecba97",
   "metadata": {},
   "source": [
    "## 4. 📊 Feature Analysis and Interpretation"
   ]
  },
  {
   "cell_type": "code",
   "execution_count": null,
   "id": "68596164",
   "metadata": {},
   "outputs": [
    {
     "name": "stdout",
     "output_type": "stream",
     "text": [
      "Top terms predicting FAKE news:\n",
      " ['via', 'imag', 'octob', 'imag via', 'hillari', 'novemb', 'ukrain', 'wire', 'uk', 'ukrainian', 'presid trump', 'entir', 'pm', 'fbi', 'howev', 'obama', 'saidth', 'share', 'get', 'nbsp']\n",
      "Top terms predicting TRUE news:\n",
      " ['said', 'presid donald', 'twitter', 'thursday', 'friday', 'tuesday', 'wednesday', 'monday', 'the', 'com', 'we', 'sunday', 'it', 'follow', 'follow twitter', 'saturday', 'that', 'said statement', 'there', 'pic twitter']\n"
     ]
    }
   ],
   "source": [
    "\n",
    "import numpy as np\n",
    "\n",
    "feature_names = np.array(vectorizer.get_feature_names_out())\n",
    "coefficients = model.coef_[0]\n",
    "\n",
    "top_fake = feature_names[np.argsort(coefficients)[-20:]]\n",
    "top_true = feature_names[np.argsort(coefficients)[:20]]\n",
    "\n",
    "print(\"Top terms predicting FAKE news:\\n\", list(reversed(top_fake)))\n",
    "print(\"Top terms predicting TRUE news:\\n\", list(top_true))"
   ]
  },
  {
   "cell_type": "markdown",
   "id": "3041a268",
   "metadata": {},
   "source": [
    "## 6. 🔮 Prediction"
   ]
  },
  {
   "cell_type": "code",
   "execution_count": 21,
   "id": "24348938",
   "metadata": {},
   "outputs": [
    {
     "name": "stdout",
     "output_type": "stream",
     "text": [
      "Prediction: ✅ True / Reliable\n"
     ]
    }
   ],
   "source": [
    "def predict_text(text):\n",
    "    text_clean = normalize_text(text)\n",
    "    text_vec = vectorizer.transform([text_clean])\n",
    "    pred = model.predict(text_vec)[0]\n",
    "    label = \"🚫 Misinformation / Disinformation\" if pred == 1 else \"✅ True / Reliable\"\n",
    "    print(f\"Prediction: {label}\")\n",
    "\n",
    "# https://www.bbc.com/news/articles/cwy67y8834yo\n",
    "predict_text(\"\"\"\n",
    "At least 38 Palestinians were killed in a series of Israeli air strikes across the Gaza Strip during a half-hour period overnight, according to Palestinian medics.\n",
    "\n",
    "Israeli warplanes struck several locations, including a school in eastern Gaza City, and an abandoned fuel station sheltering displaced families in central Gaza's Nuseirat refugee camp, according to the Hamas-run civil defence agency.\n",
    "\n",
    "It added that rescue teams were facing major difficulties reaching the wounded due to a lack of equipment and the intensity of the bombardment.\n",
    "\n",
    "The attack comes after Israel issued a sweeping evacuation order for civilians in Gaza in preparation for what it said was an \"unprecedented attack\".\n",
    "\n",
    "Live coverage\n",
    "Ten people were killed when an Israeli air strike hit classrooms at the Musa bin Nusayr School, where hundreds of displaced people were sheltering, according to local activists in Gaza City.\n",
    "\n",
    "In central Gaza, 15 people were reported killed in a strike targeting tents at an abandoned fuel station in Nuseirat.\n",
    "\n",
    "Meanwhile, local journalists said 13 Palestinians were killed in an air strike on the Abu Samra family's three-story home in central Deir al-Balah.\n",
    "\n",
    "Separately, Israeli jets launched 10 air strikes on the Shujaiya neighbourhood in eastern Gaza City.\n",
    "\n",
    "Local reports described the blasts as causing tremors similar to an earthquake. The strikes are believed to have targeted Hamas's network of underground tunnels.\n",
    "\n",
    "The attack comes as the leaders of the UK, France and Canada issued a joint statement threatening action if Israel Prime Minister Benjamin Netanyahu persisted with his goal to \"take control\" of all of Gaza.\n",
    "\n",
    "Jeremy Bowen: Goodwill running out as UK, France and Canada demand Israel end Gaza offensive\n",
    "Netanyahu described the statement as a \"huge prize\" for Hamas.\n",
    "\n",
    "Earlier, Israel said it would allow a \"basic amount\" of food into Gaza, ending an 11-week blockade of the territory.\n",
    "\n",
    "But United Nations aid chief Tom Fletcher said the amount of aid was a \"drop in the ocean of what is urgently needed\".\n",
    "\n",
    "The war was triggered by the Hamas-led attacks on southern Israel on 7 October 2023, which saw about 1,200 people killed and 251 taken hostage.\n",
    "\n",
    "Some 58 hostages remain in Gaza, up to 23 of whom are believed to be alive.\n",
    "\n",
    "At least 53,486 Palestinians have been killed during Israel's military campaign in Gaza, according the Hamas-run health ministry.\n",
    "\"\"\")"
   ]
  },
  {
   "cell_type": "markdown",
   "id": "fcf34985",
   "metadata": {},
   "source": [
    "## 6. 📝 Summary\n",
    "\n",
    "- We built a classifier to distinguish misinformation from truth.\n",
    "- Corpus combined over 5000 words from general and Russian-origin English texts.\n",
    "- Achieved high accuracy using TF-IDF + Logistic Regression.\n",
    "- Extracted keywords important to prediction.\n",
    "\n",
    "This pipeline can be extended with more complex models, multilingual analysis, or real-time detection for social platforms."
   ]
  }
 ],
 "metadata": {
  "kernelspec": {
   "display_name": "Python 3",
   "language": "python",
   "name": "python3"
  },
  "language_info": {
   "codemirror_mode": {
    "name": "ipython",
    "version": 3
   },
   "file_extension": ".py",
   "mimetype": "text/x-python",
   "name": "python",
   "nbconvert_exporter": "python",
   "pygments_lexer": "ipython3",
   "version": "3.11.4"
  }
 },
 "nbformat": 4,
 "nbformat_minor": 5
}
