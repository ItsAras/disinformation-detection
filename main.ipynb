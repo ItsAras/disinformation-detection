{
 "cells": [
  {
   "cell_type": "markdown",
   "id": "c4486ea0",
   "metadata": {},
   "source": [
    "# Dezinformacijos atpažinimas socialiniuose tinkluose\n",
    "Tikslas sukurti programą, kuri išanalizuotų pateiktą tekstą anglų kalba iš socialinių tinklų ar straipsnių ir nurodytų ar duotas tekstas yra dezinformacija ar tiesa."
   ]
  },
  {
   "cell_type": "code",
   "execution_count": 1,
   "id": "2584ba48",
   "metadata": {},
   "outputs": [
    {
     "name": "stdout",
     "output_type": "stream",
     "text": [
      "Requirement already satisfied: pandas in c:\\users\\aras\\appdata\\local\\programs\\python\\python313\\lib\\site-packages (2.2.3)\n",
      "Collecting matplotlib\n",
      "  Downloading matplotlib-3.10.3-cp313-cp313-win_amd64.whl.metadata (11 kB)\n",
      "Collecting seaborn\n",
      "  Downloading seaborn-0.13.2-py3-none-any.whl.metadata (5.4 kB)\n",
      "Requirement already satisfied: scikit-learn in c:\\users\\aras\\appdata\\local\\programs\\python\\python313\\lib\\site-packages (1.6.1)\n",
      "Collecting nltk\n",
      "  Downloading nltk-3.9.1-py3-none-any.whl.metadata (2.9 kB)\n",
      "Requirement already satisfied: joblib in c:\\users\\aras\\appdata\\local\\programs\\python\\python313\\lib\\site-packages (1.5.0)\n",
      "Requirement already satisfied: numpy>=1.26.0 in c:\\users\\aras\\appdata\\local\\programs\\python\\python313\\lib\\site-packages (from pandas) (2.2.6)\n",
      "Requirement already satisfied: python-dateutil>=2.8.2 in c:\\users\\aras\\appdata\\local\\programs\\python\\python313\\lib\\site-packages (from pandas) (2.9.0.post0)\n",
      "Requirement already satisfied: pytz>=2020.1 in c:\\users\\aras\\appdata\\local\\programs\\python\\python313\\lib\\site-packages (from pandas) (2025.2)\n",
      "Requirement already satisfied: tzdata>=2022.7 in c:\\users\\aras\\appdata\\local\\programs\\python\\python313\\lib\\site-packages (from pandas) (2025.2)\n",
      "Collecting contourpy>=1.0.1 (from matplotlib)\n",
      "  Downloading contourpy-1.3.2-cp313-cp313-win_amd64.whl.metadata (5.5 kB)\n",
      "Collecting cycler>=0.10 (from matplotlib)\n",
      "  Downloading cycler-0.12.1-py3-none-any.whl.metadata (3.8 kB)\n",
      "Collecting fonttools>=4.22.0 (from matplotlib)\n",
      "  Downloading fonttools-4.58.0-cp313-cp313-win_amd64.whl.metadata (106 kB)\n",
      "Collecting kiwisolver>=1.3.1 (from matplotlib)\n",
      "  Downloading kiwisolver-1.4.8-cp313-cp313-win_amd64.whl.metadata (6.3 kB)\n",
      "Requirement already satisfied: packaging>=20.0 in c:\\users\\aras\\appdata\\local\\programs\\python\\python313\\lib\\site-packages (from matplotlib) (25.0)\n",
      "Collecting pillow>=8 (from matplotlib)\n",
      "  Downloading pillow-11.2.1-cp313-cp313-win_amd64.whl.metadata (9.1 kB)\n",
      "Collecting pyparsing>=2.3.1 (from matplotlib)\n",
      "  Downloading pyparsing-3.2.3-py3-none-any.whl.metadata (5.0 kB)\n",
      "Requirement already satisfied: scipy>=1.6.0 in c:\\users\\aras\\appdata\\local\\programs\\python\\python313\\lib\\site-packages (from scikit-learn) (1.15.3)\n",
      "Requirement already satisfied: threadpoolctl>=3.1.0 in c:\\users\\aras\\appdata\\local\\programs\\python\\python313\\lib\\site-packages (from scikit-learn) (3.6.0)\n",
      "Collecting click (from nltk)\n",
      "  Downloading click-8.2.0-py3-none-any.whl.metadata (2.5 kB)\n",
      "Collecting regex>=2021.8.3 (from nltk)\n",
      "  Downloading regex-2024.11.6-cp313-cp313-win_amd64.whl.metadata (41 kB)\n",
      "Requirement already satisfied: tqdm in c:\\users\\aras\\appdata\\local\\programs\\python\\python313\\lib\\site-packages (from nltk) (4.67.1)\n",
      "Requirement already satisfied: six>=1.5 in c:\\users\\aras\\appdata\\local\\programs\\python\\python313\\lib\\site-packages (from python-dateutil>=2.8.2->pandas) (1.17.0)\n",
      "Requirement already satisfied: colorama in c:\\users\\aras\\appdata\\local\\programs\\python\\python313\\lib\\site-packages (from click->nltk) (0.4.6)\n",
      "Downloading matplotlib-3.10.3-cp313-cp313-win_amd64.whl (8.1 MB)\n",
      "   ---------------------------------------- 0.0/8.1 MB ? eta -:--:--\n",
      "   ------- -------------------------------- 1.6/8.1 MB 7.8 MB/s eta 0:00:01\n",
      "   ---------------------- ----------------- 4.5/8.1 MB 11.5 MB/s eta 0:00:01\n",
      "   ----------------------------------- ---- 7.1/8.1 MB 11.7 MB/s eta 0:00:01\n",
      "   ---------------------------------------- 8.1/8.1 MB 11.5 MB/s eta 0:00:00\n",
      "Downloading seaborn-0.13.2-py3-none-any.whl (294 kB)\n",
      "Downloading nltk-3.9.1-py3-none-any.whl (1.5 MB)\n",
      "   ---------------------------------------- 0.0/1.5 MB ? eta -:--:--\n",
      "   ---------------------------------------- 1.5/1.5 MB 11.9 MB/s eta 0:00:00\n",
      "Downloading contourpy-1.3.2-cp313-cp313-win_amd64.whl (223 kB)\n",
      "Downloading cycler-0.12.1-py3-none-any.whl (8.3 kB)\n",
      "Downloading fonttools-4.58.0-cp313-cp313-win_amd64.whl (2.2 MB)\n",
      "   ---------------------------------------- 0.0/2.2 MB ? eta -:--:--\n",
      "   ---------------------------- ----------- 1.6/2.2 MB 6.9 MB/s eta 0:00:01\n",
      "   ---------------------------------------- 2.2/2.2 MB 7.5 MB/s eta 0:00:00\n",
      "Downloading kiwisolver-1.4.8-cp313-cp313-win_amd64.whl (71 kB)\n",
      "Downloading pillow-11.2.1-cp313-cp313-win_amd64.whl (2.7 MB)\n",
      "   ---------------------------------------- 0.0/2.7 MB ? eta -:--:--\n",
      "   ----------------------------------- ---- 2.4/2.7 MB 12.1 MB/s eta 0:00:01\n",
      "   ---------------------------------------- 2.7/2.7 MB 11.2 MB/s eta 0:00:00\n",
      "Downloading pyparsing-3.2.3-py3-none-any.whl (111 kB)\n",
      "Downloading regex-2024.11.6-cp313-cp313-win_amd64.whl (273 kB)\n",
      "Downloading click-8.2.0-py3-none-any.whl (102 kB)\n",
      "Installing collected packages: regex, pyparsing, pillow, kiwisolver, fonttools, cycler, contourpy, click, nltk, matplotlib, seaborn\n",
      "Successfully installed click-8.2.0 contourpy-1.3.2 cycler-0.12.1 fonttools-4.58.0 kiwisolver-1.4.8 matplotlib-3.10.3 nltk-3.9.1 pillow-11.2.1 pyparsing-3.2.3 regex-2024.11.6 seaborn-0.13.2\n",
      "Note: you may need to restart the kernel to use updated packages.\n"
     ]
    },
    {
     "name": "stderr",
     "output_type": "stream",
     "text": [
      "\n",
      "[notice] A new release of pip is available: 25.0.1 -> 25.1.1\n",
      "[notice] To update, run: python.exe -m pip install --upgrade pip\n"
     ]
    }
   ],
   "source": [
    "%pip install pandas matplotlib seaborn scikit-learn nltk joblib"
   ]
  },
  {
   "cell_type": "markdown",
   "id": "a0846c73",
   "metadata": {},
   "source": [
    "## 1. Bibliotekų importavimas ir duomenų nuskaitymas"
   ]
  },
  {
   "cell_type": "code",
   "execution_count": 15,
   "id": "ba72feb4",
   "metadata": {},
   "outputs": [
    {
     "name": "stdout",
     "output_type": "stream",
     "text": [
      "Total words in combined corpus: 37995032\n",
      "Number of samples: 85954\n"
     ]
    },
    {
     "data": {
      "image/png": "[encoded data removed]",
      "text/plain": [
       "<Figure size 640x480 with 1 Axes>"
      ]
     },
     "metadata": {},
     "output_type": "display_data"
    }
   ],
   "source": [
    "\n",
    "import pandas as pd\n",
    "import matplotlib.pyplot as plt\n",
    "import seaborn as sns\n",
    "from pathlib import Path\n",
    "\n",
    "# Load datasets\n",
    "data_dir = Path(\"data\")\n",
    "fake_df = pd.read_csv(data_dir / \"DataSet_Misinfo_FAKE.csv\")\n",
    "true_df = pd.read_csv(data_dir / \"DataSet_Misinfo_TRUE.csv\")\n",
    "russian_df = pd.read_csv(data_dir / \"EXTRA_RussianPropagandaSubset.csv\")\n",
    "\n",
    "# Label the datasets\n",
    "fake_df[\"label\"] = 1\n",
    "russian_df[\"label\"] = 1\n",
    "true_df[\"label\"] = 0\n",
    "\n",
    "# Standardize text column names\n",
    "for df in [fake_df, true_df, russian_df]:\n",
    "    df.columns = [col.lower() for col in df.columns]\n",
    "\n",
    "# Choose text column\n",
    "text_column = \"text\" if \"text\" in fake_df.columns else list(fake_df.columns)[0]\n",
    "\n",
    "# Select columns\n",
    "fake_df = fake_df[[text_column, \"label\"]].dropna()\n",
    "true_df = true_df[[text_column, \"label\"]].dropna()\n",
    "russian_df = russian_df[[text_column, \"label\"]].dropna()\n",
    "\n",
    "# Combine\n",
    "df = pd.concat([fake_df, true_df, russian_df], ignore_index=True).sample(frac=1, random_state=42)\n",
    "df.reset_index(drop=True, inplace=True)\n",
    "\n",
    "# Word count\n",
    "df[\"word_count\"] = df[text_column].apply(lambda x: len(str(x).split()))\n",
    "total_words = df[\"word_count\"].sum()\n",
    "print(f\"Total words in combined corpus: {total_words}\")\n",
    "print(f\"Number of samples: {len(df)}\")\n",
    "\n",
    "# Plot label distribution\n",
    "sns.countplot(data=df, x=\"label\")\n",
    "plt.title(\"Duomenų pasiskirstymas\")\n",
    "plt.xticks(ticks=[0, 1], labels=[\"Tiesa [0]\", \"Melas [1]\"])\n",
    "plt.show()"
   ]
  },
  {
   "cell_type": "markdown",
   "id": "8004eadc",
   "metadata": {},
   "source": [
    "## 2. Tekstyno apdorojimas ir normalizavimas"
   ]
  },
  {
   "cell_type": "code",
   "execution_count": 22,
   "id": "67d8dafd",
   "metadata": {},
   "outputs": [
    {
     "name": "stderr",
     "output_type": "stream",
     "text": [
      "[nltk_data] Downloading package stopwords to\n",
      "[nltk_data]     C:\\Users\\Aras\\AppData\\Roaming\\nltk_data...\n",
      "[nltk_data]   Package stopwords is already up-to-date!\n"
     ]
    }
   ],
   "source": [
    "\n",
    "import re\n",
    "import string\n",
    "from nltk.corpus import stopwords\n",
    "from nltk.stem import SnowballStemmer\n",
    "import nltk\n",
    "nltk.download('stopwords')\n",
    "\n",
    "stop_words = set(stopwords.words(\"english\"))\n",
    "stemmer = SnowballStemmer(\"english\")\n",
    "\n",
    "def normalize_text(text):\n",
    "    text = str(text).lower()\n",
    "    text = re.sub(r\"http\\S+|www\\S+|https\\S+\", '', text, flags=re.MULTILINE)\n",
    "    text = re.sub(r'\\@\\w+|\\#','', text)\n",
    "    text = text.translate(str.maketrans('', '', string.punctuation))\n",
    "    text = re.sub(r'\\d+', '', text)\n",
    "    tokens = text.split()\n",
    "    tokens = [stemmer.stem(word) for word in tokens if word not in stop_words]\n",
    "    return \" \".join(tokens)\n",
    "\n",
    "df[\"clean_text\"] = df[text_column].apply(normalize_text)\n"
   ]
  },
  {
   "cell_type": "markdown",
   "id": "0dc020b2",
   "metadata": {},
   "source": [
    "## 3. Modelio apmokymas ir testavimas"
   ]
  },
  {
   "cell_type": "code",
   "execution_count": 25,
   "id": "2d08b66d",
   "metadata": {},
   "outputs": [
    {
     "name": "stdout",
     "output_type": "stream",
     "text": [
      "Tikslumas: 94.99 %\n",
      "\n",
      "Classification Report:\n",
      "               precision    recall  f1-score   support\n",
      "\n",
      "           0       0.95      0.93      0.94      6989\n",
      "           1       0.95      0.97      0.96     10202\n",
      "\n",
      "    accuracy                           0.95     17191\n",
      "   macro avg       0.95      0.95      0.95     17191\n",
      "weighted avg       0.95      0.95      0.95     17191\n",
      "\n",
      "\n",
      "Confusion Matrix:\n",
      " [[6484  505]\n",
      " [ 357 9845]]\n"
     ]
    }
   ],
   "source": [
    "\n",
    "from sklearn.model_selection import train_test_split\n",
    "from sklearn.feature_extraction.text import TfidfVectorizer\n",
    "from sklearn.linear_model import LogisticRegression\n",
    "from sklearn.metrics import classification_report, confusion_matrix, accuracy_score\n",
    "\n",
    "X_train, X_test, y_train, y_test = train_test_split(\n",
    "    df[\"clean_text\"], df[\"label\"], test_size=0.2, random_state=42, stratify=df[\"label\"]\n",
    ")\n",
    "\n",
    "vectorizer = TfidfVectorizer(max_features=10000, ngram_range=(1, 2))\n",
    "X_train_vec = vectorizer.fit_transform(X_train)\n",
    "X_test_vec = vectorizer.transform(X_test)\n",
    "\n",
    "model = LogisticRegression(max_iter=1000)\n",
    "model.fit(X_train_vec, y_train)\n",
    "\n",
    "y_pred = model.predict(X_test_vec)\n",
    "print(\"Tikslumas:\", round(accuracy_score(y_test, y_pred) * 100, 2), \"%\")\n",
    "print(\"\\nClassification Report:\\n\", classification_report(y_test, y_pred))\n",
    "print(\"\\nConfusion Matrix:\\n\", confusion_matrix(y_test, y_pred))\n"
   ]
  },
  {
   "cell_type": "markdown",
   "id": "50ecba97",
   "metadata": {},
   "source": [
    "## 4. Požymių analizė ir interpretacija"
   ]
  },
  {
   "cell_type": "code",
   "execution_count": null,
   "id": "68596164",
   "metadata": {},
   "outputs": [
    {
     "name": "stdout",
     "output_type": "stream",
     "text": [
      "Top terms predicting FAKE news:\n",
      " ['via', 'imag', 'octob', 'imag via', 'hillari', 'novemb', 'ukrain', 'wire', 'uk', 'ukrainian', 'presid trump', 'entir', 'pm', 'fbi', 'howev', 'obama', 'saidth', 'share', 'get', 'nbsp']\n",
      "Top terms predicting TRUE news:\n",
      " ['said', 'presid donald', 'twitter', 'thursday', 'friday', 'tuesday', 'wednesday', 'monday', 'the', 'com', 'we', 'sunday', 'it', 'follow', 'follow twitter', 'saturday', 'that', 'there', 'said statement', 'pic twitter']\n"
     ]
    }
   ],
   "source": [
    "\n",
    "import numpy as np\n",
    "\n",
    "feature_names = np.array(vectorizer.get_feature_names_out())\n",
    "coefficients = model.coef_[0]\n",
    "\n",
    "top_fake = feature_names[np.argsort(coefficients)[-20:]]\n",
    "top_true = feature_names[np.argsort(coefficients)[:20]]\n",
    "\n",
    "print(\"Dažniausi žodžiai pasitaikantys dezinformacijoje:\\n\", list(reversed(top_fake)))\n",
    "print(\"Dažniausi žodžiai pasitaikantys tiesoje:\\n\", list(top_true))"
   ]
  },
  {
   "cell_type": "markdown",
   "id": "3041a268",
   "metadata": {},
   "source": [
    "## 6. Duoto teksto vertinimas"
   ]
  },
  {
   "cell_type": "code",
   "execution_count": 13,
   "id": "24348938",
   "metadata": {},
   "outputs": [
    {
     "name": "stdout",
     "output_type": "stream",
     "text": [
      "Prediction: 🚫 Dezinformacija\n"
     ]
    }
   ],
   "source": [
    "def predict_text(text):\n",
    "    text_clean = normalize_text(text)\n",
    "    text_vec = vectorizer.transform([text_clean])\n",
    "    pred = model.predict(text_vec)[0]\n",
    "    label = \"🚫 Dezinformacija\" if pred == 1 else \"✅ Patikima\"\n",
    "    print(f\"Prediction: {label}\")\n",
    "\n",
    "# https://www.bbc.com/news/articles/cwy67y8834yo\n",
    "predict_text(\"\"\"\n",
    "In a groundbreaking revelation, alternative medicine proponents claim that consuming raw garlic daily can prevent and cure COVID-19. The article quotes several unverified ‘experts’ stating that garlic’s natural antiviral properties make vaccines and other treatments unnecessary. It encourages people to replace their medications with garlic supplements and shares testimonials of ‘miraculous recoveries.’ Medical professionals warn against such claims, emphasizing that no scientific studies support garlic as an effective COVID-19 treatment.\n",
    "\n",
    "\"\"\")"
   ]
  },
  {
   "cell_type": "markdown",
   "id": "fcf34985",
   "metadata": {},
   "source": [
    "## 6. Apibrendrinimas\n",
    "\n",
    "Modeliui apmokyti buvo panaudota apie 30 000 tiesos sakinių ir apie 50 000 dezinformacijos sakinių. Pavyko sukurti ir apmokyti modelį, kuris pagal duotus duomenis turėjo 95% tikslumą."
   ]
  }
 ],
 "metadata": {
  "kernelspec": {
   "display_name": "Python 3",
   "language": "python",
   "name": "python3"
  },
  "language_info": {
   "codemirror_mode": {
    "name": "ipython",
    "version": 3
   },
   "file_extension": ".py",
   "mimetype": "text/x-python",
   "name": "python",
   "nbconvert_exporter": "python",
   "pygments_lexer": "ipython3",
   "version": "3.13.3"
  }
 },
 "nbformat": 4,
 "nbformat_minor": 5
}
